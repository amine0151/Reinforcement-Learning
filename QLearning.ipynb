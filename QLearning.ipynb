{
 "cells": [
  {
   "cell_type": "code",
   "execution_count": 1,
   "id": "35e0990f",
   "metadata": {},
   "outputs": [],
   "source": [
    "import numpy as np"
   ]
  },
  {
   "cell_type": "code",
   "execution_count": 2,
   "id": "ee302f8d",
   "metadata": {},
   "outputs": [],
   "source": [
    "# parameters gamma and alpha for the q learning\n",
    "gamma = 0.75\n",
    "alpha = 0.9\n",
    "\n",
    "location_to_state = {'A': 0,'B': 1,'C' : 2,'D':3,'E':4,'F':5,'G':6,'H':7,'I':8,'J':9,'K': 10,'L' :11}\n",
    "\n",
    "actions = [0,1,2,3,4,5,6,7,8,9,10,11]\n",
    "\n",
    "R = np.array([[0, 1, 0, 0, 0 ,0, 0, 0, 0, 0, 0 ,0],\n",
    "             [1, 0, 1, 0, 0 ,1 , 0, 0, 0, 0, 0 ,0],\n",
    "             [0, 1, 0, 0, 0 ,0 , 1, 0, 0, 0, 0 ,0],\n",
    "             [0, 0, 0, 0, 0 ,0, 0, 1, 0, 0, 0 ,0],\n",
    "             [0, 0, 0, 0, 0 ,0, 0, 0, 1, 0, 0 ,0],\n",
    "             [0, 1, 0, 0, 0 ,0, 0, 0, 0, 1, 0 ,0],\n",
    "             [0, 0, 1, 0, 0 ,0, 1000, 1, 0, 0, 0 ,0],\n",
    "             [0, 0, 0, 1, 0 ,0, 1, 0, 0, 0, 0 ,1],\n",
    "             [0, 0, 0, 0, 1 ,0, 0, 0, 0, 1, 0 ,0],\n",
    "             [0, 0, 0, 0, 0 ,1, 0, 0, 0, 0, 1 ,0],\n",
    "             [0, 0, 0, 0, 0 ,0, 0, 0, 0, 1, 0 ,1],\n",
    "             [0, 0, 0, 0, 0 ,0, 0, 1, 0, 0, 1 ,0]])"
   ]
  },
  {
   "cell_type": "code",
   "execution_count": 3,
   "id": "4e27bbf9",
   "metadata": {},
   "outputs": [],
   "source": [
    "Q = np.array(np.zeros((12,12)))\n",
    "\n",
    "#implemting the Q learning process\n",
    "for i in range(1000):\n",
    "    current_state = np.random.randint(0,12)\n",
    "    playable_actions = []\n",
    "    for j in range(len(actions)):\n",
    "        if R[current_state,j] > 0:\n",
    "            playable_actions.append(j)\n",
    "    next_state = np.random.choice(playable_actions)\n",
    "    TD = R[current_state, next_state] + gamma * Q[next_state,np.argmax(Q[next_state,])] - Q[current_state, next_state]\n",
    "    Q[current_state, next_state] = Q[current_state, next_state] + alpha * TD"
   ]
  },
  {
   "cell_type": "code",
   "execution_count": 4,
   "id": "56ef005f",
   "metadata": {},
   "outputs": [
    {
     "name": "stdout",
     "output_type": "stream",
     "text": [
      "Q-values:\n",
      "[[   0 1686    0    0    0    0    0    0    0    0    0    0]\n",
      " [1266    0 2247    0    0 1265    0    0    0    0    0    0]\n",
      " [   0 1686    0    0    0    0 2997    0    0    0    0    0]\n",
      " [   0    0    0    0    0    0    0 2247    0    0    0    0]\n",
      " [   0    0    0    0    0    0    0    0  713    0    0    0]\n",
      " [   0 1686    0    0    0    0    0    0    0  950    0    0]\n",
      " [   0    0 2249    0    0    0 3996 2247    0    0    0    0]\n",
      " [   0    0    0 1686    0    0 2995    0    0    0    0 1686]\n",
      " [   0    0    0    0  536    0    0    0    0  950    0    0]\n",
      " [   0    0    0    0    0 1265    0    0    0    0 1266    0]\n",
      " [   0    0    0    0    0    0    0    0    0  950    0 1686]\n",
      " [   0    0    0    0    0    0    0 2247    0    0 1266    0]]\n"
     ]
    }
   ],
   "source": [
    "print(\"Q-values:\")\n",
    "print(Q.astype(int))"
   ]
  },
  {
   "cell_type": "code",
   "execution_count": 5,
   "id": "ca214ba6",
   "metadata": {},
   "outputs": [
    {
     "data": {
      "text/plain": [
       "{0: 'A',\n",
       " 1: 'B',\n",
       " 2: 'C',\n",
       " 3: 'D',\n",
       " 4: 'E',\n",
       " 5: 'F',\n",
       " 6: 'G',\n",
       " 7: 'H',\n",
       " 8: 'I',\n",
       " 9: 'J',\n",
       " 10: 'K',\n",
       " 11: 'L'}"
      ]
     },
     "execution_count": 5,
     "metadata": {},
     "output_type": "execute_result"
    }
   ],
   "source": [
    "state_to_location = {state: location for location, state in location_to_state.items()}\n",
    "state_to_location"
   ]
  },
  {
   "cell_type": "code",
   "execution_count": 6,
   "id": "f714b26e",
   "metadata": {},
   "outputs": [
    {
     "data": {
      "text/plain": [
       "['E', 'I', 'J', 'K', 'L', 'H', 'G']"
      ]
     },
     "execution_count": 6,
     "metadata": {},
     "output_type": "execute_result"
    }
   ],
   "source": [
    "def route(starting_location, ending_location):\n",
    "    route = [starting_location]\n",
    "    next_location = starting_location\n",
    "    while (next_location != ending_location):\n",
    "        starting_state = location_to_state[starting_location]\n",
    "        next_state = np.argmax(Q[starting_state,])\n",
    "        next_location = state_to_location[next_state]\n",
    "        route.append(next_location)\n",
    "        starting_location = next_location\n",
    "    return route\n",
    "route('E','G')"
   ]
  },
  {
   "cell_type": "code",
   "execution_count": null,
   "id": "8a9bc469",
   "metadata": {},
   "outputs": [],
   "source": []
  },
  {
   "cell_type": "code",
   "execution_count": null,
   "id": "cb8da02f",
   "metadata": {},
   "outputs": [],
   "source": []
  }
 ],
 "metadata": {
  "kernelspec": {
   "display_name": "Python 3 (ipykernel)",
   "language": "python",
   "name": "python3"
  },
  "language_info": {
   "codemirror_mode": {
    "name": "ipython",
    "version": 3
   },
   "file_extension": ".py",
   "mimetype": "text/x-python",
   "name": "python",
   "nbconvert_exporter": "python",
   "pygments_lexer": "ipython3",
   "version": "3.11.4"
  }
 },
 "nbformat": 4,
 "nbformat_minor": 5
}
