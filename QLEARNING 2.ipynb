{
 "cells": [
  {
   "cell_type": "code",
   "execution_count": 1,
   "id": "80f5c006",
   "metadata": {},
   "outputs": [],
   "source": [
    "import numpy as np"
   ]
  },
  {
   "cell_type": "code",
   "execution_count": 2,
   "id": "f298473a",
   "metadata": {},
   "outputs": [],
   "source": [
    "gamma = 0.75\n",
    "alpha = 0.9\n",
    "\n",
    "\n",
    "actions = [0,1,2,3,4,5,6,7,8,9,10,11,12,13,14]\n",
    "\n",
    "R = np.array([[0,1,0,0,0,1,0,0,0,0,0,0,0,0,0],\n",
    "              [1,0,0,0,0,0,0,0,0,0,0,0,0,0,0],\n",
    "              [0,0,0,1,0,0,0,0,0,0,0,0,0,0,0],\n",
    "              [0,0,1,0,1,0,0,0,1,0,0,0,0,0,0],\n",
    "              [0,0,0,1,0,0,0,0,0,1,0,0,0,0,0],\n",
    "              [1,0,0,0,0,0,1,0,0,0,1,0,0,0,0],\n",
    "              [0,0,0,0,0,1,0,0,0,0,0,0,0,0,0],\n",
    "              [0,0,0,0,0,0,0,0,1,0,0,0,1,0,0],\n",
    "              [0,0,0,1,0,0,0,1,0,0,0,0,0,0,0],\n",
    "              [0,0,0,0,1,0,0,0,0,0,0,0,0,0,1],\n",
    "              [0,0,0,0,0,1,0,0,0,0,0,1,0,0,0],\n",
    "              [0,0,0,0,0,0,0,0,0,0,1,0,1,0,0],\n",
    "              [0,0,0,0,0,0,0,1,0,0,0,1,0,1,0],\n",
    "              [0,0,0,0,0,0,0,0,0,0,0,0,1,0,0],\n",
    "              [0,0,0,0,0,0,0,0,0,1,0,0,0,0,1000]]\n",
    "              )\n"
   ]
  },
  {
   "cell_type": "code",
   "execution_count": 3,
   "id": "ff89a581",
   "metadata": {},
   "outputs": [],
   "source": [
    "Q = np.array(np.zeros((15,15)))\n"
   ]
  },
  {
   "cell_type": "code",
   "execution_count": 4,
   "id": "bb5827c3",
   "metadata": {},
   "outputs": [],
   "source": [
    "for i in range(1000):\n",
    "    current_state = np.random.randint(0,15)\n",
    "    playable_actions = []\n",
    "    for j in range(len(actions)):\n",
    "        if R[current_state,j] > 0:\n",
    "            playable_actions.append(j)\n",
    "    next_state = np.random.choice(playable_actions)\n",
    "    TD = R[current_state,next_state] + gamma * Q[next_state,np.argmax(Q[next_state,])] - Q[current_state,next_state]\n",
    "    Q[current_state,next_state] = Q[current_state,next_state] + alpha * TD"
   ]
  },
  {
   "cell_type": "code",
   "execution_count": 5,
   "id": "50219c95",
   "metadata": {},
   "outputs": [
    {
     "name": "stdout",
     "output_type": "stream",
     "text": [
      "[[   0  128    0    0    0  225    0    0    0    0    0    0    0    0\n",
      "     0]\n",
      " [ 170    0    0    0    0    0    0    0    0    0    0    0    0    0\n",
      "     0]\n",
      " [   0    0    0 1267    0    0    0    0    0    0    0    0    0    0\n",
      "     0]\n",
      " [   0    0  949    0 1688    0    0    0  938    0    0    0    0    0\n",
      "     0]\n",
      " [   0    0    0 1267    0    0    0    0    0 2250    0    0    0    0\n",
      "     0]\n",
      " [ 169    0    0    0    0    0  169    0    0    0  299    0    0    0\n",
      "     0]\n",
      " [   0    0    0    0    0  225    0    0    0    0    0    0    0    0\n",
      "     0]\n",
      " [   0    0    0    0    0    0    0    0  951    0    0    0  529    0\n",
      "     0]\n",
      " [   0    0    0 1267    0    0    0  712    0    0    0    0    0    0\n",
      "     0]\n",
      " [   0    0    0    0 1688    0    0    0    0    0    0    0    0    0\n",
      "  2999]\n",
      " [   0    0    0    0    0  225    0    0    0    0    0  397    0    0\n",
      "     0]\n",
      " [   0    0    0    0    0    0    0    0    0    0  299    0  529    0\n",
      "     0]\n",
      " [   0    0    0    0    0    0    0  711    0    0    0  397    0  397\n",
      "     0]\n",
      " [   0    0    0    0    0    0    0    0    0    0    0    0  529    0\n",
      "     0]\n",
      " [   0    0    0    0    0    0    0    0    0 2250    0    0    0    0\n",
      "  3998]]\n"
     ]
    }
   ],
   "source": [
    "print(Q.astype(int))"
   ]
  },
  {
   "cell_type": "code",
   "execution_count": 6,
   "id": "a856069a",
   "metadata": {},
   "outputs": [
    {
     "data": {
      "text/plain": [
       "[0, 5, 10, 11, 12, 7, 8, 3, 4, 9, 14]"
      ]
     },
     "execution_count": 6,
     "metadata": {},
     "output_type": "execute_result"
    }
   ],
   "source": [
    "def route(starting_location,ending_location):\n",
    "    route = [starting_location]\n",
    "    next_location = starting_location\n",
    "    while (next_location != ending_location):\n",
    "        starting_state = actions[starting_location]\n",
    "        next_state = np.argmax(Q[starting_location,])\n",
    "        next_location = actions[next_state]\n",
    "        route.append(next_location)\n",
    "        starting_location = next_location\n",
    "    return route\n",
    "route(0,14)"
   ]
  },
  {
   "cell_type": "code",
   "execution_count": null,
   "id": "e10136a0",
   "metadata": {},
   "outputs": [],
   "source": []
  }
 ],
 "metadata": {
  "kernelspec": {
   "display_name": "Python 3 (ipykernel)",
   "language": "python",
   "name": "python3"
  },
  "language_info": {
   "codemirror_mode": {
    "name": "ipython",
    "version": 3
   },
   "file_extension": ".py",
   "mimetype": "text/x-python",
   "name": "python",
   "nbconvert_exporter": "python",
   "pygments_lexer": "ipython3",
   "version": "3.11.4"
  }
 },
 "nbformat": 4,
 "nbformat_minor": 5
}
